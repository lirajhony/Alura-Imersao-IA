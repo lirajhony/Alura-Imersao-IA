{
  "nbformat": 4,
  "nbformat_minor": 0,
  "metadata": {
    "colab": {
      "provenance": []
    },
    "kernelspec": {
      "name": "python3",
      "display_name": "Python 3"
    },
    "language_info": {
      "name": "python"
    }
  },
  "cells": [
    {
      "cell_type": "code",
      "source": [
        "# Célula 1: Instalação de Bibliotecas e Importações\n",
        "\n",
        "print(\"Iniciando a instalação e importação das bibliotecas necessárias...\")\n",
        "\n",
        "# 1. Instalação das Bibliotecas\n",
        "# A biblioteca 'google-generativeai' nos permite usar a IA Gemini do Google.\n",
        "print(\"Instalando google-generativeai...\")\n",
        "!pip install --no-cache-dir google-generativeai\n",
        "\n",
        "# A biblioteca 'google-maps-services-python' nos permite pegar informações do Google Maps, como avaliações de lugares.\n",
        "# Cuidado: O nome do pacote para instalar é 'google-maps-services-python', mas o módulo que importamos é 'googlemaps'.\n",
        "print(\"Instalando google-maps-services-python...\")\n",
        "!pip install googlemaps\n",
        "\n",
        "# Se você planeja usar pandas para análise de dados tabulares posteriormente, pode instalar aqui.\n",
        "# print(\"Instalando pandas (opcional, para análise de dados tabulares)...\")\n",
        "# !pip install --no-cache-dir pandas\n",
        "\n",
        "print(\"\\nInstalação de bibliotecas concluída!\")\n",
        "\n",
        "# 2. Importação das Bibliotecas\n",
        "# Importamos as bibliotecas que acabamos de instalar e outras bibliotecas nativas do Python que vamos usar.\n",
        "\n",
        "import google.generativeai as genai     # Para interagir com a IA Gemini\n",
        "from google.colab import userdata       # Para pegar as chaves de API de forma segura no Colab\n",
        "from googlemaps import Client as GoogleMapsClient # Para interagir com o Google Maps Places API\n",
        "\n",
        "import re                               # Biblioteca para trabalhar com expressões regulares (limpeza de texto)\n",
        "from collections import Counter         # Para contar a frequência de itens em uma lista (ex: sentimentos)\n",
        "\n",
        "print(\"Bibliotecas importadas com sucesso!\")"
      ],
      "metadata": {
        "colab": {
          "base_uri": "https://localhost:8080/"
        },
        "collapsed": true,
        "id": "Q_34jgN_yQw5",
        "outputId": "c2155f53-108b-47d0-e523-64cf2353b9d9"
      },
      "execution_count": 71,
      "outputs": [
        {
          "output_type": "stream",
          "name": "stdout",
          "text": [
            "Iniciando a instalação e importação das bibliotecas necessárias...\n",
            "Instalando google-generativeai...\n",
            "Requirement already satisfied: google-generativeai in /usr/local/lib/python3.11/dist-packages (0.8.5)\n",
            "Requirement already satisfied: google-ai-generativelanguage==0.6.15 in /usr/local/lib/python3.11/dist-packages (from google-generativeai) (0.6.15)\n",
            "Requirement already satisfied: google-api-core in /usr/local/lib/python3.11/dist-packages (from google-generativeai) (2.24.2)\n",
            "Requirement already satisfied: google-api-python-client in /usr/local/lib/python3.11/dist-packages (from google-generativeai) (2.169.0)\n",
            "Requirement already satisfied: google-auth>=2.15.0 in /usr/local/lib/python3.11/dist-packages (from google-generativeai) (2.38.0)\n",
            "Requirement already satisfied: protobuf in /usr/local/lib/python3.11/dist-packages (from google-generativeai) (5.29.4)\n",
            "Requirement already satisfied: pydantic in /usr/local/lib/python3.11/dist-packages (from google-generativeai) (2.11.4)\n",
            "Requirement already satisfied: tqdm in /usr/local/lib/python3.11/dist-packages (from google-generativeai) (4.67.1)\n",
            "Requirement already satisfied: typing-extensions in /usr/local/lib/python3.11/dist-packages (from google-generativeai) (4.13.2)\n",
            "Requirement already satisfied: proto-plus<2.0.0dev,>=1.22.3 in /usr/local/lib/python3.11/dist-packages (from google-ai-generativelanguage==0.6.15->google-generativeai) (1.26.1)\n",
            "Requirement already satisfied: googleapis-common-protos<2.0.0,>=1.56.2 in /usr/local/lib/python3.11/dist-packages (from google-api-core->google-generativeai) (1.70.0)\n",
            "Requirement already satisfied: requests<3.0.0,>=2.18.0 in /usr/local/lib/python3.11/dist-packages (from google-api-core->google-generativeai) (2.32.3)\n",
            "Requirement already satisfied: cachetools<6.0,>=2.0.0 in /usr/local/lib/python3.11/dist-packages (from google-auth>=2.15.0->google-generativeai) (5.5.2)\n",
            "Requirement already satisfied: pyasn1-modules>=0.2.1 in /usr/local/lib/python3.11/dist-packages (from google-auth>=2.15.0->google-generativeai) (0.4.2)\n",
            "Requirement already satisfied: rsa<5,>=3.1.4 in /usr/local/lib/python3.11/dist-packages (from google-auth>=2.15.0->google-generativeai) (4.9.1)\n",
            "Requirement already satisfied: httplib2<1.0.0,>=0.19.0 in /usr/local/lib/python3.11/dist-packages (from google-api-python-client->google-generativeai) (0.22.0)\n",
            "Requirement already satisfied: google-auth-httplib2<1.0.0,>=0.2.0 in /usr/local/lib/python3.11/dist-packages (from google-api-python-client->google-generativeai) (0.2.0)\n",
            "Requirement already satisfied: uritemplate<5,>=3.0.1 in /usr/local/lib/python3.11/dist-packages (from google-api-python-client->google-generativeai) (4.1.1)\n",
            "Requirement already satisfied: annotated-types>=0.6.0 in /usr/local/lib/python3.11/dist-packages (from pydantic->google-generativeai) (0.7.0)\n",
            "Requirement already satisfied: pydantic-core==2.33.2 in /usr/local/lib/python3.11/dist-packages (from pydantic->google-generativeai) (2.33.2)\n",
            "Requirement already satisfied: typing-inspection>=0.4.0 in /usr/local/lib/python3.11/dist-packages (from pydantic->google-generativeai) (0.4.0)\n",
            "Requirement already satisfied: grpcio<2.0dev,>=1.33.2 in /usr/local/lib/python3.11/dist-packages (from google-api-core[grpc]!=2.0.*,!=2.1.*,!=2.10.*,!=2.2.*,!=2.3.*,!=2.4.*,!=2.5.*,!=2.6.*,!=2.7.*,!=2.8.*,!=2.9.*,<3.0.0dev,>=1.34.1->google-ai-generativelanguage==0.6.15->google-generativeai) (1.71.0)\n",
            "Requirement already satisfied: grpcio-status<2.0.dev0,>=1.33.2 in /usr/local/lib/python3.11/dist-packages (from google-api-core[grpc]!=2.0.*,!=2.1.*,!=2.10.*,!=2.2.*,!=2.3.*,!=2.4.*,!=2.5.*,!=2.6.*,!=2.7.*,!=2.8.*,!=2.9.*,<3.0.0dev,>=1.34.1->google-ai-generativelanguage==0.6.15->google-generativeai) (1.71.0)\n",
            "Requirement already satisfied: pyparsing!=3.0.0,!=3.0.1,!=3.0.2,!=3.0.3,<4,>=2.4.2 in /usr/local/lib/python3.11/dist-packages (from httplib2<1.0.0,>=0.19.0->google-api-python-client->google-generativeai) (3.2.3)\n",
            "Requirement already satisfied: pyasn1<0.7.0,>=0.6.1 in /usr/local/lib/python3.11/dist-packages (from pyasn1-modules>=0.2.1->google-auth>=2.15.0->google-generativeai) (0.6.1)\n",
            "Requirement already satisfied: charset-normalizer<4,>=2 in /usr/local/lib/python3.11/dist-packages (from requests<3.0.0,>=2.18.0->google-api-core->google-generativeai) (3.4.2)\n",
            "Requirement already satisfied: idna<4,>=2.5 in /usr/local/lib/python3.11/dist-packages (from requests<3.0.0,>=2.18.0->google-api-core->google-generativeai) (3.10)\n",
            "Requirement already satisfied: urllib3<3,>=1.21.1 in /usr/local/lib/python3.11/dist-packages (from requests<3.0.0,>=2.18.0->google-api-core->google-generativeai) (2.4.0)\n",
            "Requirement already satisfied: certifi>=2017.4.17 in /usr/local/lib/python3.11/dist-packages (from requests<3.0.0,>=2.18.0->google-api-core->google-generativeai) (2025.4.26)\n",
            "Instalando google-maps-services-python...\n",
            "Requirement already satisfied: googlemaps in /usr/local/lib/python3.11/dist-packages (4.10.0)\n",
            "Requirement already satisfied: requests<3.0,>=2.20.0 in /usr/local/lib/python3.11/dist-packages (from googlemaps) (2.32.3)\n",
            "Requirement already satisfied: charset-normalizer<4,>=2 in /usr/local/lib/python3.11/dist-packages (from requests<3.0,>=2.20.0->googlemaps) (3.4.2)\n",
            "Requirement already satisfied: idna<4,>=2.5 in /usr/local/lib/python3.11/dist-packages (from requests<3.0,>=2.20.0->googlemaps) (3.10)\n",
            "Requirement already satisfied: urllib3<3,>=1.21.1 in /usr/local/lib/python3.11/dist-packages (from requests<3.0,>=2.20.0->googlemaps) (2.4.0)\n",
            "Requirement already satisfied: certifi>=2017.4.17 in /usr/local/lib/python3.11/dist-packages (from requests<3.0,>=2.20.0->googlemaps) (2025.4.26)\n",
            "\n",
            "Instalação de bibliotecas concluída!\n",
            "Bibliotecas importadas com sucesso!\n"
          ]
        }
      ]
    },
    {
      "cell_type": "code",
      "source": [
        "# Célula 1: Instalação de Bibliotecas\n",
        "\n",
        "# A biblioteca 'google-generativeai' nos permite usar a IA Gemini do Google.\n",
        "!pip install google-generativeai\n",
        "\n"
      ],
      "metadata": {
        "colab": {
          "base_uri": "https://localhost:8080/"
        },
        "collapsed": true,
        "id": "k_MPNHiZurtP",
        "outputId": "eba69183-99db-4ae1-8450-6214b7d0a05b"
      },
      "execution_count": 59,
      "outputs": [
        {
          "output_type": "stream",
          "name": "stdout",
          "text": [
            "Requirement already satisfied: google-generativeai in /usr/local/lib/python3.11/dist-packages (0.8.5)\n",
            "Requirement already satisfied: google-ai-generativelanguage==0.6.15 in /usr/local/lib/python3.11/dist-packages (from google-generativeai) (0.6.15)\n",
            "Requirement already satisfied: google-api-core in /usr/local/lib/python3.11/dist-packages (from google-generativeai) (2.24.2)\n",
            "Requirement already satisfied: google-api-python-client in /usr/local/lib/python3.11/dist-packages (from google-generativeai) (2.169.0)\n",
            "Requirement already satisfied: google-auth>=2.15.0 in /usr/local/lib/python3.11/dist-packages (from google-generativeai) (2.38.0)\n",
            "Requirement already satisfied: protobuf in /usr/local/lib/python3.11/dist-packages (from google-generativeai) (5.29.4)\n",
            "Requirement already satisfied: pydantic in /usr/local/lib/python3.11/dist-packages (from google-generativeai) (2.11.4)\n",
            "Requirement already satisfied: tqdm in /usr/local/lib/python3.11/dist-packages (from google-generativeai) (4.67.1)\n",
            "Requirement already satisfied: typing-extensions in /usr/local/lib/python3.11/dist-packages (from google-generativeai) (4.13.2)\n",
            "Requirement already satisfied: proto-plus<2.0.0dev,>=1.22.3 in /usr/local/lib/python3.11/dist-packages (from google-ai-generativelanguage==0.6.15->google-generativeai) (1.26.1)\n",
            "Requirement already satisfied: googleapis-common-protos<2.0.0,>=1.56.2 in /usr/local/lib/python3.11/dist-packages (from google-api-core->google-generativeai) (1.70.0)\n",
            "Requirement already satisfied: requests<3.0.0,>=2.18.0 in /usr/local/lib/python3.11/dist-packages (from google-api-core->google-generativeai) (2.32.3)\n",
            "Requirement already satisfied: cachetools<6.0,>=2.0.0 in /usr/local/lib/python3.11/dist-packages (from google-auth>=2.15.0->google-generativeai) (5.5.2)\n",
            "Requirement already satisfied: pyasn1-modules>=0.2.1 in /usr/local/lib/python3.11/dist-packages (from google-auth>=2.15.0->google-generativeai) (0.4.2)\n",
            "Requirement already satisfied: rsa<5,>=3.1.4 in /usr/local/lib/python3.11/dist-packages (from google-auth>=2.15.0->google-generativeai) (4.9.1)\n",
            "Requirement already satisfied: httplib2<1.0.0,>=0.19.0 in /usr/local/lib/python3.11/dist-packages (from google-api-python-client->google-generativeai) (0.22.0)\n",
            "Requirement already satisfied: google-auth-httplib2<1.0.0,>=0.2.0 in /usr/local/lib/python3.11/dist-packages (from google-api-python-client->google-generativeai) (0.2.0)\n",
            "Requirement already satisfied: uritemplate<5,>=3.0.1 in /usr/local/lib/python3.11/dist-packages (from google-api-python-client->google-generativeai) (4.1.1)\n",
            "Requirement already satisfied: annotated-types>=0.6.0 in /usr/local/lib/python3.11/dist-packages (from pydantic->google-generativeai) (0.7.0)\n",
            "Requirement already satisfied: pydantic-core==2.33.2 in /usr/local/lib/python3.11/dist-packages (from pydantic->google-generativeai) (2.33.2)\n",
            "Requirement already satisfied: typing-inspection>=0.4.0 in /usr/local/lib/python3.11/dist-packages (from pydantic->google-generativeai) (0.4.0)\n",
            "Requirement already satisfied: grpcio<2.0dev,>=1.33.2 in /usr/local/lib/python3.11/dist-packages (from google-api-core[grpc]!=2.0.*,!=2.1.*,!=2.10.*,!=2.2.*,!=2.3.*,!=2.4.*,!=2.5.*,!=2.6.*,!=2.7.*,!=2.8.*,!=2.9.*,<3.0.0dev,>=1.34.1->google-ai-generativelanguage==0.6.15->google-generativeai) (1.71.0)\n",
            "Requirement already satisfied: grpcio-status<2.0.dev0,>=1.33.2 in /usr/local/lib/python3.11/dist-packages (from google-api-core[grpc]!=2.0.*,!=2.1.*,!=2.10.*,!=2.2.*,!=2.3.*,!=2.4.*,!=2.5.*,!=2.6.*,!=2.7.*,!=2.8.*,!=2.9.*,<3.0.0dev,>=1.34.1->google-ai-generativelanguage==0.6.15->google-generativeai) (1.71.0)\n",
            "Requirement already satisfied: pyparsing!=3.0.0,!=3.0.1,!=3.0.2,!=3.0.3,<4,>=2.4.2 in /usr/local/lib/python3.11/dist-packages (from httplib2<1.0.0,>=0.19.0->google-api-python-client->google-generativeai) (3.2.3)\n",
            "Requirement already satisfied: pyasn1<0.7.0,>=0.6.1 in /usr/local/lib/python3.11/dist-packages (from pyasn1-modules>=0.2.1->google-auth>=2.15.0->google-generativeai) (0.6.1)\n",
            "Requirement already satisfied: charset-normalizer<4,>=2 in /usr/local/lib/python3.11/dist-packages (from requests<3.0.0,>=2.18.0->google-api-core->google-generativeai) (3.4.2)\n",
            "Requirement already satisfied: idna<4,>=2.5 in /usr/local/lib/python3.11/dist-packages (from requests<3.0.0,>=2.18.0->google-api-core->google-generativeai) (3.10)\n",
            "Requirement already satisfied: urllib3<3,>=1.21.1 in /usr/local/lib/python3.11/dist-packages (from requests<3.0.0,>=2.18.0->google-api-core->google-generativeai) (2.4.0)\n",
            "Requirement already satisfied: certifi>=2017.4.17 in /usr/local/lib/python3.11/dist-packages (from requests<3.0.0,>=2.18.0->google-api-core->google-generativeai) (2025.4.26)\n"
          ]
        }
      ]
    },
    {
      "cell_type": "code",
      "source": [
        "!pip install googlemaps"
      ],
      "metadata": {
        "colab": {
          "base_uri": "https://localhost:8080/"
        },
        "collapsed": true,
        "id": "2MJMxPJHxJDi",
        "outputId": "3d4b8ee4-8b98-4bf2-92ce-659ef622d44f"
      },
      "execution_count": 62,
      "outputs": [
        {
          "output_type": "stream",
          "name": "stdout",
          "text": [
            "Requirement already satisfied: googlemaps in /usr/local/lib/python3.11/dist-packages (4.10.0)\n",
            "Requirement already satisfied: requests<3.0,>=2.20.0 in /usr/local/lib/python3.11/dist-packages (from googlemaps) (2.32.3)\n",
            "Requirement already satisfied: charset-normalizer<4,>=2 in /usr/local/lib/python3.11/dist-packages (from requests<3.0,>=2.20.0->googlemaps) (3.4.2)\n",
            "Requirement already satisfied: idna<4,>=2.5 in /usr/local/lib/python3.11/dist-packages (from requests<3.0,>=2.20.0->googlemaps) (3.10)\n",
            "Requirement already satisfied: urllib3<3,>=1.21.1 in /usr/local/lib/python3.11/dist-packages (from requests<3.0,>=2.20.0->googlemaps) (2.4.0)\n",
            "Requirement already satisfied: certifi>=2017.4.17 in /usr/local/lib/python3.11/dist-packages (from requests<3.0,>=2.20.0->googlemaps) (2025.4.26)\n"
          ]
        }
      ]
    },
    {
      "cell_type": "code",
      "source": [
        "# Configura a API Key do Google Gemini\n",
        "\n",
        "import os\n",
        "from google.colab import userdata\n",
        "\n",
        "os.environ[\"GOOGLE_API_KEY\"] = userdata.get('GOOGLE_API_KEY')\n",
        "\n"
      ],
      "metadata": {
        "id": "uLGnOt45uvWb"
      },
      "execution_count": 58,
      "outputs": []
    },
    {
      "cell_type": "code",
      "source": [
        "# Configura o cliente da SDK do Gemini\n",
        "\n",
        "from google import genai as ggai\n",
        "\n",
        "client = ggai.Client()\n",
        "\n",
        "MODEL_ID = \"gemini-2.0-flash\""
      ],
      "metadata": {
        "id": "7cYsqTsdvYmi"
      },
      "execution_count": 73,
      "outputs": []
    },
    {
      "cell_type": "code",
      "source": [
        "# Instalar Framework ADK de agentes do Google ################################################\n",
        "!pip install -q google-adk"
      ],
      "metadata": {
        "id": "aoRnF8XuvowH"
      },
      "execution_count": 61,
      "outputs": []
    },
    {
      "cell_type": "code",
      "source": [
        "from googlemaps import Client as GoogleMapsClient\n"
      ],
      "metadata": {
        "id": "5fwFSsyE1E0X"
      },
      "execution_count": 63,
      "outputs": []
    },
    {
      "cell_type": "code",
      "source": [
        "from google.adk.agents import Agent\n",
        "from google.adk.runners import Runner\n",
        "from google.adk.sessions import InMemorySessionService\n",
        "from google.adk.tools import google_search\n",
        "from google.genai import types  # Para criar conteúdos (Content e Part)\n",
        "from datetime import date\n",
        "from datetime import datetime  # Importa a classe 'datetime' do módulo 'datetime' para registrar a data e hora.\n",
        "import random  # Importa o módulo 'random' para gerar números aleatórios e fazer escolhas aleatórias.\n",
        "import time    # Importa o módulo 'time' para controlar o tempo, como pausas.\n",
        "import textwrap # Para formatar melhor a saída de texto\n",
        "from IPython.display import display, HTML, Markdown # Para exibir texto formatado no Colab\n",
        "import requests # Para fazer requisições HTTP\n",
        "import warnings\n",
        "\n",
        "warnings.filterwarnings(\"ignore\")"
      ],
      "metadata": {
        "id": "ukY66VR8wfn-"
      },
      "execution_count": 64,
      "outputs": []
    },
    {
      "cell_type": "markdown",
      "source": [
        "# INICIO DO PROJETO"
      ],
      "metadata": {
        "id": "qZ0EglXq26uZ"
      }
    },
    {
      "cell_type": "code",
      "source": [
        "# Célula 2: Configuração das Chaves de API\n",
        "\n",
        "print(\"Tentando configurar as chaves de API e inicializar os serviços do Google...\")\n",
        "\n",
        "# Pegamos as chaves que você configurou nos \"Segredos\" do Colab.\n",
        "Maps_API_KEY = userdata.get('Maps_API_KEY')\n",
        "GEMINI_API_KEY = userdata.get('GOOGLE_API_KEY')\n",
        "\n",
        "# Verificamos se as chaves foram configuradas corretamente.\n",
        "if not Maps_API_KEY:\n",
        "    print(\"ERRO: Maps_API_KEY não encontrada. Por favor, configure sua chave do Google Maps nos 'Segredos' do Colab.\")\n",
        "    print(\"Siga as instruções na seção '2. Configurando suas Chaves de API'.\")\n",
        "elif not GEMINI_API_KEY:\n",
        "    print(\"ERRO: GEMINI_API_KEY não encontrada. Por favor, configure sua chave do Google AI Studio nos 'Segredos' do Colab.\")\n",
        "    print(\"Siga as instruções na seção '2. Configurando suas Chaves de API'.\")\n",
        "else:\n",
        "    try:\n",
        "        # Inicializamos o cliente do Google Maps com sua chave.\n",
        "        gmaps = GoogleMapsClient(Maps_API_KEY)\n",
        "        print(\"Cliente do Google Maps inicializado com sucesso!\")\n",
        "\n",
        "        # Configuramos a IA Gemini com sua chave.\n",
        "        genai.configure(api_key=GEMINI_API_KEY)\n",
        "        # Escolhemos o modelo 'gemini-pro' para análise de texto.\n",
        "        model = genai.GenerativeModel('gemini-pro')\n",
        "        print(\"Modelo Gemini ('gemini-pro') inicializado com sucesso!\")\n",
        "\n",
        "        print(\"\\nChaves de API configuradas e serviços do Google inicializados!\")\n",
        "    except Exception as e:\n",
        "        print(f\"ERRO: Ocorreu um problema ao inicializar os serviços do Google: {e}\")\n",
        "        print(\"Verifique suas chaves de API e sua conexão com a internet.\")"
      ],
      "metadata": {
        "colab": {
          "base_uri": "https://localhost:8080/"
        },
        "id": "4vqQrX-a3O0-",
        "outputId": "ef13cffe-f104-4893-a9cc-9620faa98989"
      },
      "execution_count": 74,
      "outputs": [
        {
          "output_type": "stream",
          "name": "stdout",
          "text": [
            "Tentando configurar as chaves de API e inicializar os serviços do Google...\n",
            "Cliente do Google Maps inicializado com sucesso!\n",
            "Modelo Gemini ('gemini-pro') inicializado com sucesso!\n",
            "\n",
            "Chaves de API configuradas e serviços do Google inicializados!\n"
          ]
        }
      ]
    },
    {
      "cell_type": "code",
      "source": [
        "# Célula 3: Funções do Projeto (Mais uma atualização!)\n",
        "\n",
        "# (Mantenha as funções 'buscar_reviews' e 'limpar_texto' como estão)\n",
        "\n",
        "# Função para buscar avaliações (reviews) de um local usando o ID do local\n",
        "def buscar_reviews(place_id):\n",
        "    \"\"\"\n",
        "    Busca as avaliações de um local específico no Google Maps.\n",
        "    Recebe: place_id (ID único de um local no Google Maps).\n",
        "    Retorna: Uma lista de textos de avaliações.\n",
        "    \"\"\"\n",
        "    try:\n",
        "        place_details = gmaps.place(place_id=place_id, fields=['reviews'])\n",
        "        if 'reviews' in place_details['result']:\n",
        "            return [review['text'] for review in place_details['result']['reviews']]\n",
        "        else:\n",
        "            print(f\"Aviso: Não foram encontradas avaliações para o Place ID: {place_id}\")\n",
        "            return []\n",
        "    except Exception as e:\n",
        "        print(f\"Erro ao buscar reviews para {place_id}: {e}\")\n",
        "        return []\n",
        "\n",
        "# Função para limpar o texto das avaliações\n",
        "def limpar_texto(texto):\n",
        "    \"\"\"\n",
        "    Limpa o texto de uma avaliação, removendo emojis e caracteres especiais.\n",
        "    Recebe: texto (string da avaliação).\n",
        "    Retorna: O texto limpo.\n",
        "    \"\"\"\n",
        "    texto_limpo = re.sub(r'[^\\w\\s]+', '', texto)\n",
        "    texto_limpo = re.sub(r'[\\U0001F600-\\U0001F64F\\U0001F300-\\U0001F5FF\\U0001F680-\\U0001F6FF\\u2600-\\u26FF\\u2700-\\u27BF]', '', texto_limpo)\n",
        "    return texto_limpo.strip()\n",
        "\n",
        "# Função para extrair palavras-chave e sentimento (mantém como está, já atualizada)\n",
        "def extrair_palavras_chave_e_sentimento(texto):\n",
        "    \"\"\"\n",
        "    Usa o modelo Gemini para extrair palavras-chave e determinar o sentimento\n",
        "    do texto em relação a essas palavras.\n",
        "    \"\"\"\n",
        "    prompt = f\"\"\"\n",
        "    Analise a seguinte avaliação em português.\n",
        "    1. Identifique 3 a 5 palavras-chave mais relevantes que descrevam o tema principal da avaliação.\n",
        "    2. Determine o sentimento geral da avaliação como 'positivo', 'negativo' ou 'neutro'.\n",
        "\n",
        "    Formato de saída (apenas JSON):\n",
        "    {{\n",
        "      \"sentimento\": \"positivo|negativo|neutro\",\n",
        "      \"palavras_chave\": [\"palavra1\", \"palavra2\", \"palavra3\"]\n",
        "    }}\n",
        "\n",
        "    Avaliação: \"{texto}\"\n",
        "    \"\"\"\n",
        "    try:\n",
        "        response = model.generate_content(prompt)\n",
        "        response_text = response.text.strip().lower()\n",
        "\n",
        "        print(response_text)\n",
        "\n",
        "        if response_text.startswith('```json'):\n",
        "            response_text = response_text[len('```json'):]\n",
        "        if response_text.endswith('```'):\n",
        "            response_text = response_text[:-len('```')]\n",
        "\n",
        "\n",
        "        data = json.loads(response_text)\n",
        "\n",
        "        sentimento = data.get('sentimento', 'erro').strip()\n",
        "        palavras_chave = data.get('palavras_chave', [])\n",
        "\n",
        "        if sentimento not in ['positivo', 'negativo', 'neutro']:\n",
        "            sentimento = 'neutro'\n",
        "\n",
        "        return {'sentimento': sentimento, 'palavras_chave': palavras_chave}\n",
        "\n",
        "    except Exception as e:\n",
        "        print(f\"Erro na análise de sentimento/palavras-chave para o texto '{texto[:70]}...': {e}\")\n",
        "        return {'sentimento': 'erro', 'palavras_chave': []}\n",
        "\n",
        "# --- NOVA FUNÇÃO: AGENTE DE BUSCA DE PLACE ID ---\n",
        "def buscar_place_id_por_nome(nome_do_local, cidade_uf=None):\n",
        "    \"\"\"\n",
        "    Busca o Place ID de um local pelo seu nome, opcionalmente com cidade e estado.\n",
        "    Recebe: nome_do_local (string, ex: \"Parque da Cidade\").\n",
        "            cidade_uf (string opcional, ex: \"Joinville, SC\").\n",
        "    Retorna: O place_id do local ou None se não encontrado.\n",
        "    \"\"\"\n",
        "    query = nome_do_local\n",
        "    if cidade_uf:\n",
        "        query = f\"{nome_do_local}, {cidade_uf}\"\n",
        "\n",
        "    try:\n",
        "        # Usa a API de 'find_place' do Google Maps para buscar por nome.\n",
        "        # O campo 'place_id' é o que queremos.\n",
        "        # 'inputtype='textquery' é o tipo de busca.\n",
        "        response = gmaps.find_place(query, 'textquery', fields=['place_id', 'name', 'formatted_address'])\n",
        "\n",
        "        if response['candidates']:\n",
        "            # Pega o primeiro resultado como o mais relevante.\n",
        "            candidato = response['candidates'][0]\n",
        "            print(f\"Local encontrado: '{candidato.get('name')}' - Endereço: '{candidato.get('formatted_address')}'\")\n",
        "            return candidato['place_id']\n",
        "        else:\n",
        "            print(f\"Não foi encontrado nenhum local com o nome: '{nome_do_local}'\")\n",
        "            return None\n",
        "    except Exception as e:\n",
        "        print(f\"Erro ao buscar Place ID para '{nome_do_local}': {e}\")\n",
        "        return None\n",
        "\n",
        "import json # Garante que 'json' está importado para a função 'extrair_palavras_chave_e_sentimento'\n",
        "\n",
        "print(\"Todas as funções auxiliares (incluindo o agente de palavras-chave e busca de Place ID) foram definidas!\")"
      ],
      "metadata": {
        "colab": {
          "base_uri": "https://localhost:8080/"
        },
        "id": "bdq6VA8fNajP",
        "outputId": "4d0211a5-1859-4e11-e3df-42b94f0a473a"
      },
      "execution_count": 78,
      "outputs": [
        {
          "output_type": "stream",
          "name": "stdout",
          "text": [
            "Todas as funções auxiliares (incluindo o agente de palavras-chave e busca de Place ID) foram definidas!\n"
          ]
        }
      ]
    },
    {
      "cell_type": "code",
      "source": [
        "from logging import info\n",
        "# Célula 4: Análise Principal do Local (Atualizada para usar o Agente de Busca de Local)\n",
        "\n",
        "nome_do_local_desejado =  \"\"\n",
        "\n",
        "while nome_do_local_desejado != \"sair\":\n",
        "    # --- NOVIDADE: Pedimos ao usuário o nome do local ---\n",
        "\n",
        "    nome_do_local_desejado = input(\"Digite o nome do local público que deseja analisar (ex: Parque da Cidade): \")\n",
        "    if nome_do_local_desejado.lower() == \"sair\":\n",
        "        print(\"Saindo do programa. Até a próxima!\")\n",
        "        break\n",
        "\n",
        "    cidade_uf_do_local = input(\"Digite a cidade e UF do local (ex: Joinville, SC): \")\n",
        "    if cidade_uf_do_local.lower() == \"sair\":\n",
        "        print(\"Saindo do programa. Até a próxima!\")\n",
        "        break\n",
        "    # Usamos o AGENTE DE BUSCA DE PLACE ID para encontrar o ID automaticamente!\n",
        "    place_id = buscar_place_id_por_nome(nome_do_local_desejado, cidade_uf_do_local)\n",
        "\n",
        "    if place_id: # Se o Place ID foi encontrado...\n",
        "        print(f\"\\nIniciando a análise de sentimento para o local com ID: {place_id}\")\n",
        "\n",
        "        reviews = buscar_reviews(place_id)\n",
        "\n",
        "        if reviews:\n",
        "            resultados_analise = []\n",
        "            todas_palavras_chave = []\n",
        "\n",
        "            print(f\"\\nTotal de avaliações encontradas: {len(reviews)}\")\n",
        "            print(\"\\n--- Analisando cada avaliação com o Agente PlaceVibes AI ---\")\n",
        "\n",
        "            for i, review in enumerate(reviews):\n",
        "                texto_limpo = limpar_texto(review)\n",
        "\n",
        "                if texto_limpo:\n",
        "                    resultado = extrair_palavras_chave_e_sentimento(texto_limpo)\n",
        "                    resultados_analise.append(resultado)\n",
        "\n",
        "                    sentimento = resultado['sentimento']\n",
        "                    palavras_chave = resultado['palavras_chave']\n",
        "\n",
        "                    todas_palavras_chave.extend(palavras_chave)\n",
        "\n",
        "                    print(f\"Avaliação {i+1}: '{texto_limpo[:70]}...'\")\n",
        "                    print(f\"  -> Sentimento: {sentimento.capitalize()}, Palavras-chave: {', '.join(palavras_chave) if palavras_chave else 'Nenhuma'}\")\n",
        "                else:\n",
        "                    print(f\"Avaliação {i+1}: Vazia após a limpeza, pulando.\")\n",
        "\n",
        "            # Resumo dos Sentimentos e Palavras-Chave (mantém como está)\n",
        "            if resultados_analise:\n",
        "                sentimentos_para_contagem = [res['sentimento'] for res in resultados_analise if res['sentimento'] != 'erro']\n",
        "                contagem_sentimentos = Counter(sentimentos_para_contagem)\n",
        "                total_reviews_analisadas = len(sentimentos_para_contagem)\n",
        "\n",
        "                print(\"\\n--- Resumo do Sentimento Geral ---\")\n",
        "                if total_reviews_analisadas > 0:\n",
        "                    for sentimento, count in contagem_sentimentos.items():\n",
        "                        porcentagem = (count / total_reviews_analisadas) * 100\n",
        "                        print(f\"{sentimento.capitalize()}: {count} ({porcentagem:.2f}%)\")\n",
        "                else:\n",
        "                    print(\"Nenhum sentimento válido foi analisado.\")\n",
        "\n",
        "                print(\"\\n--- Palavras-Chave Mais Frequentes ---\")\n",
        "                if todas_palavras_chave:\n",
        "                    contagem_palavras_chave = Counter(todas_palavras_chave)\n",
        "                    for palavra, count in contagem_palavras_chave.most_common(10):\n",
        "                        print(f\"- {palavra.capitalize()}: {count} ocorrências\")\n",
        "                else:\n",
        "                    print(\"Nenhuma palavra-chave relevante foi extraída.\")\n",
        "\n",
        "                print(\"\\n--- Diagnóstico Qualitativo Inicial ---\")\n",
        "                if 'positivo' in contagem_sentimentos and contagem_sentimentos['positivo'] > contagem_sentimentos.get('negativo', 0) * 2:\n",
        "                    print(\"💪 O local parece ter uma recepção predominantemente POSITIVA! Ótimo para o turismo e satisfação pública. As palavras-chave podem indicar os pontos fortes.\")\n",
        "                elif 'negativo' in contagem_sentimentos and contagem_sentimentos['negativo'] > contagem_sentimentos.get('positivo', 0):\n",
        "                    print(\"⚠️ Atenção: Há um volume significativo de sentimento NEGATIVO. O local pode precisar de melhorias. As palavras-chave podem apontar os problemas.\")\n",
        "                elif 'neutro' in contagem_sentimentos and contagem_sentimentos['neutro'] > total_reviews_analisadas * 0.5:\n",
        "                    print(\"🤔 O sentimento predominante é NEUTRO. Isso pode indicar falta de elementos que gerem forte conexão ou emoção. Verifique as palavras-chave para entender o que está faltando.\")\n",
        "                else:\n",
        "                    print(\"📊 Sentimento balanceado ou diversificado. Uma análise mais profunda dos comentários individuais e palavras-chave seria útil.\")\n",
        "\n",
        "            else:\n",
        "                print(\"Não foi possível analisar nenhum sentimento das avaliações do local.\")\n",
        "        else:\n",
        "            print(\"Não foi possível obter avaliações para este local ou ocorreu um erro na busca inicial.\")\n",
        "    else:\n",
        "        print(\"Análise cancelada. Não foi possível encontrar o Place ID para o local fornecido.\")\n"
      ],
      "metadata": {
        "id": "QNigxDH5XbW8"
      },
      "execution_count": null,
      "outputs": []
    }
  ]
}